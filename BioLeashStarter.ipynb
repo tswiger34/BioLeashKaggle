{
  "nbformat": 4,
  "nbformat_minor": 0,
  "metadata": {
    "colab": {
      "provenance": [],
      "machine_shape": "hm",
      "mount_file_id": "1rQjRthByJHD-eWx7ZRGoUKslM4wxUKMJ",
      "authorship_tag": "ABX9TyO60i8wYiSIla03X/E171+y",
      "include_colab_link": true
    },
    "kernelspec": {
      "name": "python3",
      "display_name": "Python 3"
    },
    "language_info": {
      "name": "python"
    }
  },
  "cells": [
    {
      "cell_type": "markdown",
      "metadata": {
        "id": "view-in-github",
        "colab_type": "text"
      },
      "source": [
        "<a href=\"https://colab.research.google.com/github/tswiger34/BioLeashKaggle/blob/main/BioLeashStarter.ipynb\" target=\"_parent\"><img src=\"https://colab.research.google.com/assets/colab-badge.svg\" alt=\"Open In Colab\"/></a>"
      ]
    },
    {
      "cell_type": "markdown",
      "source": [
        "# Import Libraries and Data"
      ],
      "metadata": {
        "id": "dxKnavVmByLQ"
      }
    },
    {
      "cell_type": "code",
      "source": [
        "!pip install rdkit"
      ],
      "metadata": {
        "id": "_RMHgpe7B-XL"
      },
      "execution_count": null,
      "outputs": []
    },
    {
      "cell_type": "code",
      "source": [
        "import zipfile\n",
        "import pandas as pd\n",
        "import numpy as np\n",
        "import pickle\n",
        "import rdkit\n",
        "from rdkit import Chem\n",
        "from rdkit.Chem import AllChem, MACCSkeys, rdFingerprintGenerator"
      ],
      "metadata": {
        "id": "LLpED2fLB2GW"
      },
      "execution_count": null,
      "outputs": []
    },
    {
      "cell_type": "code",
      "execution_count": null,
      "metadata": {
        "id": "6F9IVA1tl3sP",
        "colab": {
          "base_uri": "https://localhost:8080/"
        },
        "outputId": "552720c8-ad46-40e2-d1cb-f56f8c000a35"
      },
      "outputs": [
        {
          "output_type": "stream",
          "name": "stdout",
          "text": [
            "   id                            buildingblock1_smiles buildingblock2_smiles  \\\n",
            "0   0  C#CC[C@@H](CC(=O)O)NC(=O)OCC1c2ccccc2-c2ccccc21  C#CCOc1ccc(CN)cc1.Cl   \n",
            "1   1  C#CC[C@@H](CC(=O)O)NC(=O)OCC1c2ccccc2-c2ccccc21  C#CCOc1ccc(CN)cc1.Cl   \n",
            "2   2  C#CC[C@@H](CC(=O)O)NC(=O)OCC1c2ccccc2-c2ccccc21  C#CCOc1ccc(CN)cc1.Cl   \n",
            "3   3  C#CC[C@@H](CC(=O)O)NC(=O)OCC1c2ccccc2-c2ccccc21  C#CCOc1ccc(CN)cc1.Cl   \n",
            "4   4  C#CC[C@@H](CC(=O)O)NC(=O)OCC1c2ccccc2-c2ccccc21  C#CCOc1ccc(CN)cc1.Cl   \n",
            "\n",
            "     buildingblock3_smiles                                    molecule_smiles  \\\n",
            "0  Br.Br.NCC1CCCN1c1cccnn1  C#CCOc1ccc(CNc2nc(NCC3CCCN3c3cccnn3)nc(N[C@@H]...   \n",
            "1  Br.Br.NCC1CCCN1c1cccnn1  C#CCOc1ccc(CNc2nc(NCC3CCCN3c3cccnn3)nc(N[C@@H]...   \n",
            "2  Br.Br.NCC1CCCN1c1cccnn1  C#CCOc1ccc(CNc2nc(NCC3CCCN3c3cccnn3)nc(N[C@@H]...   \n",
            "3        Br.NCc1cccc(Br)n1  C#CCOc1ccc(CNc2nc(NCc3cccc(Br)n3)nc(N[C@@H](CC...   \n",
            "4        Br.NCc1cccc(Br)n1  C#CCOc1ccc(CNc2nc(NCc3cccc(Br)n3)nc(N[C@@H](CC...   \n",
            "\n",
            "  protein_name  binds  \n",
            "0         BRD4      0  \n",
            "1          HSA      0  \n",
            "2          sEH      0  \n",
            "3         BRD4      0  \n",
            "4          HSA      0  \n"
          ]
        }
      ],
      "source": [
        "# Specify the path to the ZIP file\n",
        "zip_file_path = '/content/drive/MyDrive/LeashBioComp/leash-BELKA.zip'\n",
        "\n",
        "# Open the ZIP file\n",
        "with zipfile.ZipFile(zip_file_path, 'r') as zip_file:\n",
        "    # List all the files in the ZIP file\n",
        "    file_names = zip_file.namelist()\n",
        "\n",
        "    # Specify the name of the CSV file within the ZIP file\n",
        "    # Assuming there is only one CSV file, otherwise adjust as necessary\n",
        "    csv_file_name = file_names[3]\n",
        "\n",
        "    # Open the CSV file within the ZIP file\n",
        "    with zip_file.open(csv_file_name) as csv_file:\n",
        "        # Read the CSV file using pandas\n",
        "        train = pd.read_csv(csv_file, nrows = 30000000)\n",
        "\n",
        "        # Display the first few rows of the dataframe (optional)\n",
        "        print(train.head())"
      ]
    },
    {
      "cell_type": "code",
      "source": [
        "# Function to calculate Morgan fingerprint (also known as ECFP)\n",
        "def calculate_morgan_fingerprint(smiles, radius=2, n_bits=2048):\n",
        "    mol = Chem.MolFromSmiles(smiles)\n",
        "    if mol:\n",
        "        fingerprint = AllChem.GetMorganFingerprintAsBitVect(mol, radius, nBits=n_bits)\n",
        "        return list(fingerprint.ToBitString())\n",
        "    else:\n",
        "        return [0] * n_bits  # Return zero vector if molecule cannot be created\n",
        "\n",
        "# Function to calculate MACCS keys fingerprint\n",
        "def calculate_maccs_fingerprint(smiles):\n",
        "    mol = Chem.MolFromSmiles(smiles)\n",
        "    if mol:\n",
        "        fingerprint = MACCSkeys.GenMACCSKeys(mol)\n",
        "        return list(fingerprint.ToBitString())\n",
        "    else:\n",
        "        return [0] * 166  # Return zero vector if molecule cannot be created"
      ],
      "metadata": {
        "id": "tqkh_7ee_4CL"
      },
      "execution_count": null,
      "outputs": []
    },
    {
      "cell_type": "code",
      "source": [
        "smiles_one_df['smiles'] = pd.DataFrame(train['buildingblock1_smiles'])\n",
        "smiles_one_df['morgan_fingerprint'] = smiles_one_df['smiles'].apply(calculate_morgan_fingerprint)\n",
        "smiles_one_df['maccs_fingerprint'] = smiles_one_df['smiles'].apply(calculate_maccs_fingerprint)\n",
        "print(smiles_one_df.head())"
      ],
      "metadata": {
        "id": "8UpUzhx6DQo6"
      },
      "execution_count": null,
      "outputs": []
    }
  ]
}